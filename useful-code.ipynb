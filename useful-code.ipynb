{
 "cells": [
  {
   "cell_type": "code",
   "execution_count": null,
   "id": "3f1d217a",
   "metadata": {},
   "outputs": [],
   "source": [
    "### Log Transformations"
   ]
  },
  {
   "cell_type": "code",
   "execution_count": null,
   "id": "da569870",
   "metadata": {},
   "outputs": [],
   "source": [
    "# Apply a log transformation on the right-skewed data\n",
    "# Add a constant to each column based on mean\n",
    "for var in num_vars:\n",
    "    # compute the mean\n",
    "    # add it to all values in that column\n",
    "    customer_data.loc[:, var] += customer_data.loc[:, var].mean()\n",
    "\n",
    "# customer_data.loc[:, num_vars] = customer_data.loc[:, num_vars].transform(np.log, axis=0)"
   ]
  },
  {
   "cell_type": "code",
   "execution_count": null,
   "id": "c75a5013",
   "metadata": {},
   "outputs": [],
   "source": [
    "['PageValues', 'ExitRates', 'ProductRelated_Duration', 'ProductRelated', 'Administrative_Duration', 'BounceRates']"
   ]
  },
  {
   "cell_type": "code",
   "execution_count": null,
   "id": "9be60d1f",
   "metadata": {},
   "outputs": [],
   "source": [
    "from sklearn.preprocessing import power_transform\n",
    "\n",
    "customer_data.loc[:, num_vars] = power_transform(customer_data.loc[:, num_vars], method='box-cox')"
   ]
  }
 ],
 "metadata": {
  "kernelspec": {
   "display_name": "Python 3 (ipykernel)",
   "language": "python",
   "name": "python3"
  },
  "language_info": {
   "codemirror_mode": {
    "name": "ipython",
    "version": 3
   },
   "file_extension": ".py",
   "mimetype": "text/x-python",
   "name": "python",
   "nbconvert_exporter": "python",
   "pygments_lexer": "ipython3",
   "version": "3.8.10"
  }
 },
 "nbformat": 4,
 "nbformat_minor": 5
}
